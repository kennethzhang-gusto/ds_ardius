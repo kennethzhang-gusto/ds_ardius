{
 "cells": [
  {
   "cell_type": "code",
   "execution_count": 27,
   "metadata": {},
   "outputs": [],
   "source": [
    "from pandas import Series\n",
    "import pandas as pd\n",
    "import numpy as np\n",
    "import seaborn as sns\n",
    "from collections import Counter\n",
    "from pandas.tseries.offsets import BDay\n",
    "import calendar\n",
    "import json\n",
    "import sys\n",
    "from numpy import mean\n",
    "from numpy import std\n",
    "import pylab as pl\n",
    "from numpy import hstack\n",
    "import math\n",
    "\n",
    "from statsmodels.tsa.ar_model import AR\n",
    "import re\n",
    "from statsmodels.tsa.arima_model import ARMA\n",
    "from statsmodels.tsa.arima_model import ARIMA\n",
    "import statsmodels.api as sm\n",
    "from scipy.stats import t\n",
    "\n",
    "import matplotlib.pyplot as plt\n",
    "from matplotlib import pyplot\n",
    "import matplotlib.ticker as mtick\n",
    "from matplotlib.ticker import PercentFormatter\n",
    "from matplotlib_venn import venn2, venn2_circles, venn2_unweighted\n",
    "from matplotlib_venn import venn3, venn3_circles\n",
    "\n",
    "from sqlalchemy import create_engine\n",
    "from sqlalchemy import text\n",
    "\n",
    "from sklearn.datasets import make_classification\n",
    "from sklearn.model_selection import cross_val_score\n",
    "from sklearn.model_selection import RepeatedStratifiedKFold\n",
    "from sklearn.linear_model import LogisticRegression\n",
    "from sklearn.metrics import mean_squared_error\n",
    "from sklearn.preprocessing import LabelEncoder\n",
    "from sklearn.metrics import roc_curve, auc\n",
    "from sklearn.linear_model import LinearRegression\n",
    " \n",
    "import os\n",
    "import psycopg2\n",
    "import simplejson\n",
    "\n",
    "import datetime as dt\n",
    "from datetime import datetime, date, timedelta\n"
   ]
  },
  {
   "cell_type": "code",
   "execution_count": 2,
   "metadata": {
    "scrolled": false
   },
   "outputs": [
    {
     "name": "stdout",
     "output_type": "stream",
     "text": [
      "Collecting simplejson\n",
      "\u001b[?25l  Downloading https://files.pythonhosted.org/packages/99/ce/5684bb6accda0609ca2cf308374302b0126e0a43e0fa66c49a4c830cbb0b/simplejson-3.17.6-cp37-cp37m-macosx_10_9_x86_64.whl (74kB)\n",
      "\u001b[K     |████████████████████████████████| 81kB 12.2MB/s eta 0:00:01\n",
      "\u001b[?25hInstalling collected packages: simplejson\n",
      "Successfully installed simplejson-3.17.6\n",
      "Note: you may need to restart the kernel to use updated packages.\n"
     ]
    }
   ],
   "source": [
    "pip install simplejson --user"
   ]
  },
  {
   "cell_type": "code",
   "execution_count": 2,
   "metadata": {},
   "outputs": [
    {
     "name": "stdout",
     "output_type": "stream",
     "text": [
      "Collecting psycopg2-binary\n",
      "\u001b[?25l  Downloading https://files.pythonhosted.org/packages/6d/cc/a7f2255524bf40936ea3ff81dabca321846f1a7d14166b8ddaae4514b6c5/psycopg2_binary-2.9.3-cp37-cp37m-macosx_10_14_x86_64.macosx_10_9_intel.macosx_10_9_x86_64.macosx_10_10_intel.macosx_10_10_x86_64.whl (2.2MB)\n",
      "\u001b[K     |████████████████████████████████| 2.2MB 16.4MB/s eta 0:00:01\n",
      "\u001b[?25hInstalling collected packages: psycopg2-binary\n",
      "Successfully installed psycopg2-binary-2.9.3\n",
      "Note: you may need to restart the kernel to use updated packages.\n"
     ]
    }
   ],
   "source": [
    "pip install psycopg2-binary --user"
   ]
  },
  {
   "cell_type": "code",
   "execution_count": 2,
   "metadata": {},
   "outputs": [],
   "source": [
    "Server= \"dataeng-prod.cqyxh8rl6vlx.us-west-2.redshift.amazonaws.com\"\n",
    "Port= 5439\n",
    "Db= \"data_warehouse_rc1\"\n",
    "UserName= \"kenneth.zhang\"\n",
    "Password= \"HQMQURB3rrMcvDdDu39Ryxjg\""
   ]
  },
  {
   "cell_type": "code",
   "execution_count": 3,
   "metadata": {},
   "outputs": [],
   "source": [
    "\n",
    "engine_string = \"postgresql+psycopg2://%s:%s@%s:%d/%s\" \\\n",
    "% (UserName, Password, Server, Port, Db)\n",
    "sql_engine = create_engine(engine_string)\n"
   ]
  },
  {
   "cell_type": "code",
   "execution_count": 4,
   "metadata": {},
   "outputs": [],
   "source": [
    "query ='''with \n",
    "combined as (select al.uuid, al.company_id, al.user_role_id, al.created_at, al.updated_at, al.outcome, \n",
    "aof.ardius_account_created_at, aof.ardius_onboarding_completed_at, aof.is_disqualified \n",
    "from zenpayroll_production_no_pii.ardius_leads al \n",
    "left join zenpayroll_production_no_pii.ardius_onboarding_funnels aof on al.company_id = aof.company_id where al.company_id is not null),\n",
    "\n",
    "cb as (select *, \n",
    "case when (ardius_account_created_at is not null) and (created_at > ardius_account_created_at) and (ardius_onboarding_completed_at is null) then 'follow_up_leads' \n",
    "when (ardius_account_created_at is not null) and (created_at > ardius_account_created_at) and (ardius_onboarding_completed_at is not null) then 'follow_up_completed' \n",
    "when  (outcome = 'deal') and (ardius_account_created_at is not null) and (ardius_onboarding_completed_at is null) then 'quit_onboarding'\n",
    "when  (outcome = 'deal') and (ardius_onboarding_completed_at is not null)  then 'complete_onboarding_without_follow'\n",
    "else 'no_action_taken' \n",
    "end as actions\n",
    "from combined),\n",
    "\n",
    "complete_without_follow as (select cb.*, cb.ardius_account_created_at - cb.created_at as diff\n",
    ",bab.date, bab.available, bab.current, bab.balance_across_accounts \n",
    "from cb \n",
    "join zenpayroll_production_no_pii.bank_account_balances bab \n",
    "on cb.company_id = bab.company_id \n",
    "where (cb.actions = 'complete_onboarding_without_follow') \n",
    "and \n",
    "--(((date(cb.created_at)-30 < bab.date) and (bab.date < date(cb.created_at)+30)) \n",
    "--or \n",
    "((date(cb.ardius_account_created_at)-30 < bab.date) and (bab.date < date(cb.ardius_account_created_at)+30))\n",
    "--)\n",
    "\n",
    "order by company_id, date )\n",
    "\n",
    "select avg(balance_across_accounts), stddev_pop(balance_across_accounts), \n",
    "case when avg(balance_across_accounts) <>0 then stddev_pop(balance_across_accounts)/avg(balance_across_accounts) else null end as ratio \n",
    "from complete_without_follow group by company_id'''\n",
    "\n",
    "raw_data = pd.read_sql(query, sql_engine)"
   ]
  },
  {
   "cell_type": "code",
   "execution_count": 5,
   "metadata": {},
   "outputs": [],
   "source": [
    "query1 = '''with \n",
    "combined as (select al.uuid, al.company_id, al.user_role_id, al.created_at, al.updated_at, al.outcome, \n",
    "aof.ardius_account_created_at, aof.ardius_onboarding_completed_at, aof.is_disqualified \n",
    "from zenpayroll_production_no_pii.ardius_leads al \n",
    "left join zenpayroll_production_no_pii.ardius_onboarding_funnels aof on al.company_id = aof.company_id where al.company_id is not null),\n",
    "\n",
    "cb as (select *, \n",
    "case when (ardius_account_created_at is not null) and (created_at > ardius_account_created_at) and (ardius_onboarding_completed_at is null) then 'follow_up_leads' \n",
    "when (ardius_account_created_at is not null) and (created_at > ardius_account_created_at) and (ardius_onboarding_completed_at is not null) then 'follow_up_completed' \n",
    "when  (outcome = 'deal') and (ardius_account_created_at is not null) and (ardius_onboarding_completed_at is null) then 'quit_onboarding'\n",
    "when  (outcome = 'deal') and (ardius_onboarding_completed_at is not null)  then 'complete_onboarding_without_follow'\n",
    "else 'no_action_taken' \n",
    "end as actions\n",
    "from combined),\n",
    "\n",
    "quit_onboarding_with_plaid as (select cb.*, cb.ardius_account_created_at - cb.created_at as diff\n",
    ",bab.date, bab.available, bab.current, bab.balance_across_accounts \n",
    "from cb \n",
    "join zenpayroll_production_no_pii.bank_account_balances bab \n",
    "on cb.company_id = bab.company_id \n",
    "where ((cb.actions = 'quit_onboarding') \n",
    "and (date(cb.created_at)-30 < bab.date) \n",
    "and (bab.date < date(cb.created_at)+30) )\n",
    "order by company_id, date)\n",
    "\n",
    "select avg(balance_across_accounts), stddev_pop(balance_across_accounts), \n",
    "case when avg(balance_across_accounts) <>0 then stddev_pop(balance_across_accounts)/avg(balance_across_accounts) else null end as ratio \n",
    "from quit_onboarding_with_plaid group by company_id '''\n",
    "\n",
    "raw_data1 = pd.read_sql(query1, sql_engine)"
   ]
  },
  {
   "cell_type": "code",
   "execution_count": null,
   "metadata": {},
   "outputs": [],
   "source": [
    "ecdf = ECDF(raw_data['ratio'])"
   ]
  },
  {
   "cell_type": "code",
   "execution_count": 7,
   "metadata": {},
   "outputs": [
    {
     "data": {
      "image/png": "[encoded data removed]",
      "text/plain": [
       "<Figure size 432x288 with 1 Axes>"
      ]
     },
     "metadata": {
      "needs_background": "light"
     },
     "output_type": "display_data"
    }
   ],
   "source": [
    "bins = np.linspace(1, 3, 100)\n",
    "\n",
    "plt.hist(raw_data['ratio'], bins, alpha=0.6, label='complete')\n",
    "plt.hist(raw_data1['ratio'], bins, alpha=0.4, label='quit')\n",
    "plt.legend(loc='upper right')\n",
    "plt.show()"
   ]
  },
  {
   "cell_type": "code",
   "execution_count": 167,
   "metadata": {},
   "outputs": [],
   "source": [
    "\n",
    " \n",
    "query = '''with\n",
    "\n",
    "-- do we care if they've run payroll with Gusto?\n",
    "complete_gusto as (\n",
    "    select al.company_id\n",
    "        , date_trunc('month', al.created_at) as cohort_month\n",
    "        , al.created_at as signed_ardius_tos_at\n",
    "    from zenpayroll_production_no_pii.ardius_leads al\n",
    "    join bi.companies bic on bic.id = al.company_id\n",
    "    where 1=1\n",
    "        and al.source = 'onboarding'\n",
    "        and al.outcome = 'deal'\n",
    "        and bic.sales_program <> 'Accountant'\n",
    "        and bic.joined_at is not null\n",
    "),\n",
    "\n",
    "complete_ardius as (\n",
    "    select company_id\n",
    "        , ardius_account_created_at as ardius_account_created_at_1\n",
    "        , ardius_onboarding_completed_at as ardius_onboarding_completed_at_1\n",
    "    from zenpayroll_production_no_pii.ardius_onboarding_funnels\n",
    "    where 1=1\n",
    "        and not is_disqualified\n",
    "),\n",
    "\n",
    "-- should we count companies that complete steps out of order?\n",
    "combined as (\n",
    "    select company_id\n",
    "        , cohort_month\n",
    "        , signed_ardius_tos_at\n",
    "        , case\n",
    "            when ardius_account_created_at_1 >= signed_ardius_tos_at then ardius_account_created_at_1\n",
    "            else null\n",
    "        end as ardius_account_created_at\n",
    "        , case\n",
    "            when ardius_onboarding_completed_at_1 >= ardius_account_created_at then ardius_onboarding_completed_at_1\n",
    "            else null\n",
    "        end as ardius_onboarding_completed_at\n",
    "        , datediff(day, signed_ardius_tos_at, ardius_account_created_at) as days_til_account_create\n",
    "        , datediff(day, ardius_account_created_at, ardius_onboarding_completed_at) as days_til_onboarding_complete\n",
    "        , datediff(day, signed_ardius_tos_at, ardius_onboarding_completed_at) as days_full_complete\n",
    "    from complete_gusto\n",
    "    left join complete_ardius using(company_id)\n",
    "    order by 2\n",
    "),\n",
    "\n",
    "s1_quit as (select \n",
    "case when signed_ardius_tos_at is not null and ardius_account_created_at is null then company_id else null end as id,\n",
    "case when signed_ardius_tos_at is not null and ardius_account_created_at is null then 'step_1_quit' else null end as status_type\n",
    "from combined\n",
    "),\n",
    "\n",
    "s1_success as (select \n",
    "case when signed_ardius_tos_at is not null and ardius_account_created_at is not null then company_id else null end as id, \n",
    "case when signed_ardius_tos_at is not null and ardius_account_created_at is not null then 'step_1_success' else null end as status_type \n",
    "from combined\n",
    "),\n",
    "\n",
    "s2_success as (select \n",
    "case when ardius_account_created_at is not null and ardius_onboarding_completed_at is not null then company_id else null end as id,\n",
    "case when ardius_account_created_at is not null and ardius_onboarding_completed_at is not null then 'step_2_success' else null end as status_type\n",
    "from combined\n",
    "),\n",
    "\n",
    "s2_quit as (select \n",
    "case when ardius_account_created_at is not null and ardius_onboarding_completed_at is null then company_id else null end as id, \n",
    "case when ardius_account_created_at is not null and ardius_onboarding_completed_at is null then 'step_2_quit' else null end as status_type \n",
    "from combined\n",
    "),\n",
    "\n",
    "total as (select * from s1_quit union select * from s2_quit union select * from s2_success),\n",
    "\n",
    "converted_data as (select bg.company_id, (bg.user_email_confirmation_completed_at - bg.create_user_account_completed_at) as diff,\n",
    "case when extract(day from 24*60*diff)>0 then round(log(extract(day from 24*60*diff))*10) else 0 end as log_range, \n",
    "total.status_type as status\n",
    "from bi.company_onboarding_funnels bg \n",
    "join total on total.id = bg.company_id\n",
    "where bg.company_id in (select id from total) \n",
    "order by log_range desc), \n",
    "\n",
    "\n",
    "buc as (select company_id, count(user_id) from bi.users_to_companies group by company_id)\n",
    "\n",
    "select * from converted_data cd \n",
    "join buc\n",
    "on cd.company_id = buc.company_id '''\n",
    " \n",
    "raw_data = pd.read_sql(query, sql_engine)"
   ]
  },
  {
   "cell_type": "code",
   "execution_count": 169,
   "metadata": {},
   "outputs": [
    {
     "data": {
      "text/html": [
       "<div>\n",
       "<style scoped>\n",
       "    .dataframe tbody tr th:only-of-type {\n",
       "        vertical-align: middle;\n",
       "    }\n",
       "\n",
       "    .dataframe tbody tr th {\n",
       "        vertical-align: top;\n",
       "    }\n",
       "\n",
       "    .dataframe thead th {\n",
       "        text-align: right;\n",
       "    }\n",
       "</style>\n",
       "<table border=\"1\" class=\"dataframe\">\n",
       "  <thead>\n",
       "    <tr style=\"text-align: right;\">\n",
       "      <th></th>\n",
       "      <th>company_id</th>\n",
       "      <th>diff</th>\n",
       "      <th>log_range</th>\n",
       "      <th>status</th>\n",
       "      <th>company_id</th>\n",
       "      <th>count</th>\n",
       "      <th>status_num</th>\n",
       "    </tr>\n",
       "  </thead>\n",
       "  <tbody>\n",
       "    <tr>\n",
       "      <th>0</th>\n",
       "      <td>7757616924025787</td>\n",
       "      <td>0 days 00:00:17</td>\n",
       "      <td>0.0</td>\n",
       "      <td>step_2_quit</td>\n",
       "      <td>7757616924025787</td>\n",
       "      <td>4</td>\n",
       "      <td>1</td>\n",
       "    </tr>\n",
       "    <tr>\n",
       "      <th>1</th>\n",
       "      <td>7757616924237171</td>\n",
       "      <td>0 days 00:00:20</td>\n",
       "      <td>0.0</td>\n",
       "      <td>step_2_success</td>\n",
       "      <td>7757616924237171</td>\n",
       "      <td>6</td>\n",
       "      <td>2</td>\n",
       "    </tr>\n",
       "    <tr>\n",
       "      <th>2</th>\n",
       "      <td>7757616924294015</td>\n",
       "      <td>0 days 00:01:07</td>\n",
       "      <td>0.0</td>\n",
       "      <td>step_2_quit</td>\n",
       "      <td>7757616924294015</td>\n",
       "      <td>18</td>\n",
       "      <td>1</td>\n",
       "    </tr>\n",
       "    <tr>\n",
       "      <th>3</th>\n",
       "      <td>7757616924586213</td>\n",
       "      <td>0 days 00:00:02</td>\n",
       "      <td>0.0</td>\n",
       "      <td>step_2_success</td>\n",
       "      <td>7757616924586213</td>\n",
       "      <td>10</td>\n",
       "      <td>2</td>\n",
       "    </tr>\n",
       "    <tr>\n",
       "      <th>4</th>\n",
       "      <td>7757616924633976</td>\n",
       "      <td>0 days 00:00:37</td>\n",
       "      <td>0.0</td>\n",
       "      <td>step_1_quit</td>\n",
       "      <td>7757616924633976</td>\n",
       "      <td>9</td>\n",
       "      <td>0</td>\n",
       "    </tr>\n",
       "  </tbody>\n",
       "</table>\n",
       "</div>"
      ],
      "text/plain": [
       "         company_id            diff  log_range          status  \\\n",
       "0  7757616924025787 0 days 00:00:17        0.0     step_2_quit   \n",
       "1  7757616924237171 0 days 00:00:20        0.0  step_2_success   \n",
       "2  7757616924294015 0 days 00:01:07        0.0     step_2_quit   \n",
       "3  7757616924586213 0 days 00:00:02        0.0  step_2_success   \n",
       "4  7757616924633976 0 days 00:00:37        0.0     step_1_quit   \n",
       "\n",
       "         company_id  count  status_num  \n",
       "0  7757616924025787      4           1  \n",
       "1  7757616924237171      6           2  \n",
       "2  7757616924294015     18           1  \n",
       "3  7757616924586213     10           2  \n",
       "4  7757616924633976      9           0  "
      ]
     },
     "execution_count": 169,
     "metadata": {},
     "output_type": "execute_result"
    }
   ],
   "source": [
    "enc = LabelEncoder()\n",
    "enc.fit(raw_data['status'])\n",
    "raw_data['status_num'] = enc.transform(raw_data['status'])\n",
    "raw_data.head()"
   ]
  },
  {
   "cell_type": "code",
   "execution_count": 170,
   "metadata": {},
   "outputs": [],
   "source": [
    "raw_data.loc[raw_data['status_num'] == 2, 'status_num'] = 1"
   ]
  },
  {
   "cell_type": "code",
   "execution_count": 104,
   "metadata": {},
   "outputs": [],
   "source": [
    "model = LogisticRegression(multi_class = 'multinomial')"
   ]
  },
  {
   "cell_type": "code",
   "execution_count": 154,
   "metadata": {},
   "outputs": [
    {
     "data": {
      "text/html": [
       "<div>\n",
       "<style scoped>\n",
       "    .dataframe tbody tr th:only-of-type {\n",
       "        vertical-align: middle;\n",
       "    }\n",
       "\n",
       "    .dataframe tbody tr th {\n",
       "        vertical-align: top;\n",
       "    }\n",
       "\n",
       "    .dataframe thead th {\n",
       "        text-align: right;\n",
       "    }\n",
       "</style>\n",
       "<table border=\"1\" class=\"dataframe\">\n",
       "  <thead>\n",
       "    <tr style=\"text-align: right;\">\n",
       "      <th></th>\n",
       "      <th>company_id</th>\n",
       "      <th>diff</th>\n",
       "      <th>log_range</th>\n",
       "      <th>status</th>\n",
       "      <th>company_id</th>\n",
       "      <th>count</th>\n",
       "      <th>status_num</th>\n",
       "    </tr>\n",
       "  </thead>\n",
       "  <tbody>\n",
       "    <tr>\n",
       "      <th>0</th>\n",
       "      <td>7757616924136685</td>\n",
       "      <td>0 days 00:01:02</td>\n",
       "      <td>0.0</td>\n",
       "      <td>step_1_quit</td>\n",
       "      <td>7757616924136685</td>\n",
       "      <td>19</td>\n",
       "      <td>0</td>\n",
       "    </tr>\n",
       "    <tr>\n",
       "      <th>1</th>\n",
       "      <td>7757616924357633</td>\n",
       "      <td>0 days 00:13:47</td>\n",
       "      <td>11.0</td>\n",
       "      <td>step_2_quit</td>\n",
       "      <td>7757616924357633</td>\n",
       "      <td>9</td>\n",
       "      <td>0</td>\n",
       "    </tr>\n",
       "    <tr>\n",
       "      <th>2</th>\n",
       "      <td>7757616924643297</td>\n",
       "      <td>0 days 00:00:11</td>\n",
       "      <td>0.0</td>\n",
       "      <td>step_1_quit</td>\n",
       "      <td>7757616924643297</td>\n",
       "      <td>6</td>\n",
       "      <td>0</td>\n",
       "    </tr>\n",
       "    <tr>\n",
       "      <th>3</th>\n",
       "      <td>7757616924647973</td>\n",
       "      <td>0 days 00:00:30</td>\n",
       "      <td>0.0</td>\n",
       "      <td>step_2_success</td>\n",
       "      <td>7757616924647973</td>\n",
       "      <td>15</td>\n",
       "      <td>1</td>\n",
       "    </tr>\n",
       "    <tr>\n",
       "      <th>4</th>\n",
       "      <td>7757616924665630</td>\n",
       "      <td>0 days 00:00:05</td>\n",
       "      <td>0.0</td>\n",
       "      <td>step_2_quit</td>\n",
       "      <td>7757616924665630</td>\n",
       "      <td>4</td>\n",
       "      <td>0</td>\n",
       "    </tr>\n",
       "  </tbody>\n",
       "</table>\n",
       "</div>"
      ],
      "text/plain": [
       "         company_id            diff  log_range          status  \\\n",
       "0  7757616924136685 0 days 00:01:02        0.0     step_1_quit   \n",
       "1  7757616924357633 0 days 00:13:47       11.0     step_2_quit   \n",
       "2  7757616924643297 0 days 00:00:11        0.0     step_1_quit   \n",
       "3  7757616924647973 0 days 00:00:30        0.0  step_2_success   \n",
       "4  7757616924665630 0 days 00:00:05        0.0     step_2_quit   \n",
       "\n",
       "         company_id  count  status_num  \n",
       "0  7757616924136685     19           0  \n",
       "1  7757616924357633      9           0  \n",
       "2  7757616924643297      6           0  \n",
       "3  7757616924647973     15           1  \n",
       "4  7757616924665630      4           0  "
      ]
     },
     "execution_count": 154,
     "metadata": {},
     "output_type": "execute_result"
    }
   ],
   "source": [
    "raw_data.head()"
   ]
  },
  {
   "cell_type": "code",
   "execution_count": 171,
   "metadata": {},
   "outputs": [
    {
     "data": {
      "text/plain": [
       "<matplotlib.collections.PathCollection at 0x1866454e0>"
      ]
     },
     "execution_count": 171,
     "metadata": {},
     "output_type": "execute_result"
    },
    {
     "data": {
      "image/png": "[encoded data removed]",
      "text/plain": [
       "<Figure size 432x288 with 1 Axes>"
      ]
     },
     "metadata": {
      "needs_background": "light"
     },
     "output_type": "display_data"
    }
   ],
   "source": [
    "plt.scatter(np.array(raw_data[['log_range']]), np.array(raw_data['status_num']))"
   ]
  },
  {
   "cell_type": "code",
   "execution_count": 180,
   "metadata": {},
   "outputs": [],
   "source": [
    "result = model.fit(np.array(raw_data[['log_range','count']]), np.array(raw_data['status_num']))"
   ]
  },
  {
   "cell_type": "code",
   "execution_count": 172,
   "metadata": {},
   "outputs": [
    {
     "name": "stdout",
     "output_type": "stream",
     "text": [
      "Optimization terminated successfully.\n",
      "         Current function value: 0.688702\n",
      "         Iterations 4\n"
     ]
    }
   ],
   "source": [
    "reg = sm.Logit(np.array(raw_data['status_num']),sm.add_constant(np.array(raw_data[['log_range','count']]))).fit()"
   ]
  },
  {
   "cell_type": "code",
   "execution_count": 173,
   "metadata": {
    "scrolled": true
   },
   "outputs": [
    {
     "data": {
      "text/html": [
       "<table class=\"simpletable\">\n",
       "<caption>Logit Regression Results</caption>\n",
       "<tr>\n",
       "  <th>Dep. Variable:</th>           <td>y</td>        <th>  No. Observations:  </th>  <td>   592</td> \n",
       "</tr>\n",
       "<tr>\n",
       "  <th>Model:</th>                 <td>Logit</td>      <th>  Df Residuals:      </th>  <td>   589</td> \n",
       "</tr>\n",
       "<tr>\n",
       "  <th>Method:</th>                 <td>MLE</td>       <th>  Df Model:          </th>  <td>     2</td> \n",
       "</tr>\n",
       "<tr>\n",
       "  <th>Date:</th>            <td>Thu, 02 Jun 2022</td> <th>  Pseudo R-squ.:     </th> <td>0.003449</td>\n",
       "</tr>\n",
       "<tr>\n",
       "  <th>Time:</th>                <td>15:38:32</td>     <th>  Log-Likelihood:    </th> <td> -407.71</td>\n",
       "</tr>\n",
       "<tr>\n",
       "  <th>converged:</th>             <td>True</td>       <th>  LL-Null:           </th> <td> -409.12</td>\n",
       "</tr>\n",
       "<tr>\n",
       "  <th>Covariance Type:</th>     <td>nonrobust</td>    <th>  LLR p-value:       </th>  <td>0.2439</td> \n",
       "</tr>\n",
       "</table>\n",
       "<table class=\"simpletable\">\n",
       "<tr>\n",
       "    <td></td>       <th>coef</th>     <th>std err</th>      <th>z</th>      <th>P>|z|</th>  <th>[0.025</th>    <th>0.975]</th>  \n",
       "</tr>\n",
       "<tr>\n",
       "  <th>const</th> <td>   -0.0179</td> <td>    0.110</td> <td>   -0.162</td> <td> 0.871</td> <td>   -0.234</td> <td>    0.199</td>\n",
       "</tr>\n",
       "<tr>\n",
       "  <th>x1</th>    <td>   -0.0136</td> <td>    0.013</td> <td>   -1.074</td> <td> 0.283</td> <td>   -0.038</td> <td>    0.011</td>\n",
       "</tr>\n",
       "<tr>\n",
       "  <th>x2</th>    <td>   -0.0128</td> <td>    0.011</td> <td>   -1.212</td> <td> 0.225</td> <td>   -0.033</td> <td>    0.008</td>\n",
       "</tr>\n",
       "</table>"
      ],
      "text/plain": [
       "<class 'statsmodels.iolib.summary.Summary'>\n",
       "\"\"\"\n",
       "                           Logit Regression Results                           \n",
       "==============================================================================\n",
       "Dep. Variable:                      y   No. Observations:                  592\n",
       "Model:                          Logit   Df Residuals:                      589\n",
       "Method:                           MLE   Df Model:                            2\n",
       "Date:                Thu, 02 Jun 2022   Pseudo R-squ.:                0.003449\n",
       "Time:                        15:38:32   Log-Likelihood:                -407.71\n",
       "converged:                       True   LL-Null:                       -409.12\n",
       "Covariance Type:            nonrobust   LLR p-value:                    0.2439\n",
       "==============================================================================\n",
       "                 coef    std err          z      P>|z|      [0.025      0.975]\n",
       "------------------------------------------------------------------------------\n",
       "const         -0.0179      0.110     -0.162      0.871      -0.234       0.199\n",
       "x1            -0.0136      0.013     -1.074      0.283      -0.038       0.011\n",
       "x2            -0.0128      0.011     -1.212      0.225      -0.033       0.008\n",
       "==============================================================================\n",
       "\"\"\""
      ]
     },
     "execution_count": 173,
     "metadata": {},
     "output_type": "execute_result"
    }
   ],
   "source": [
    "reg.summary()"
   ]
  },
  {
   "cell_type": "code",
   "execution_count": 210,
   "metadata": {},
   "outputs": [],
   "source": [
    "df = pd.DataFrame()"
   ]
  },
  {
   "cell_type": "code",
   "execution_count": 215,
   "metadata": {},
   "outputs": [],
   "source": [
    "df['pred'] = reg.predict(sm.add_constant(np.array(raw_data[['log_range','count']])))\n",
    "df['actual'] = np.array(raw_data['status_num'])"
   ]
  },
  {
   "cell_type": "code",
   "execution_count": 216,
   "metadata": {},
   "outputs": [
    {
     "data": {
      "text/html": [
       "<div>\n",
       "<style scoped>\n",
       "    .dataframe tbody tr th:only-of-type {\n",
       "        vertical-align: middle;\n",
       "    }\n",
       "\n",
       "    .dataframe tbody tr th {\n",
       "        vertical-align: top;\n",
       "    }\n",
       "\n",
       "    .dataframe thead th {\n",
       "        text-align: right;\n",
       "    }\n",
       "</style>\n",
       "<table border=\"1\" class=\"dataframe\">\n",
       "  <thead>\n",
       "    <tr style=\"text-align: right;\">\n",
       "      <th></th>\n",
       "      <th>pred</th>\n",
       "      <th>actual</th>\n",
       "    </tr>\n",
       "  </thead>\n",
       "  <tbody>\n",
       "    <tr>\n",
       "      <th>0</th>\n",
       "      <td>0.482740</td>\n",
       "      <td>1</td>\n",
       "    </tr>\n",
       "    <tr>\n",
       "      <th>1</th>\n",
       "      <td>0.476359</td>\n",
       "      <td>1</td>\n",
       "    </tr>\n",
       "    <tr>\n",
       "      <th>2</th>\n",
       "      <td>0.438306</td>\n",
       "      <td>1</td>\n",
       "    </tr>\n",
       "    <tr>\n",
       "      <th>3</th>\n",
       "      <td>0.463622</td>\n",
       "      <td>1</td>\n",
       "    </tr>\n",
       "    <tr>\n",
       "      <th>4</th>\n",
       "      <td>0.466803</td>\n",
       "      <td>0</td>\n",
       "    </tr>\n",
       "    <tr>\n",
       "      <th>...</th>\n",
       "      <td>...</td>\n",
       "      <td>...</td>\n",
       "    </tr>\n",
       "    <tr>\n",
       "      <th>587</th>\n",
       "      <td>0.450932</td>\n",
       "      <td>0</td>\n",
       "    </tr>\n",
       "    <tr>\n",
       "      <th>588</th>\n",
       "      <td>0.489127</td>\n",
       "      <td>0</td>\n",
       "    </tr>\n",
       "    <tr>\n",
       "      <th>589</th>\n",
       "      <td>0.442120</td>\n",
       "      <td>1</td>\n",
       "    </tr>\n",
       "    <tr>\n",
       "      <th>590</th>\n",
       "      <td>0.482740</td>\n",
       "      <td>0</td>\n",
       "    </tr>\n",
       "    <tr>\n",
       "      <th>591</th>\n",
       "      <td>0.482740</td>\n",
       "      <td>1</td>\n",
       "    </tr>\n",
       "  </tbody>\n",
       "</table>\n",
       "<p>592 rows × 2 columns</p>\n",
       "</div>"
      ],
      "text/plain": [
       "         pred  actual\n",
       "0    0.482740       1\n",
       "1    0.476359       1\n",
       "2    0.438306       1\n",
       "3    0.463622       1\n",
       "4    0.466803       0\n",
       "..        ...     ...\n",
       "587  0.450932       0\n",
       "588  0.489127       0\n",
       "589  0.442120       1\n",
       "590  0.482740       0\n",
       "591  0.482740       1\n",
       "\n",
       "[592 rows x 2 columns]"
      ]
     },
     "execution_count": 216,
     "metadata": {},
     "output_type": "execute_result"
    }
   ],
   "source": [
    "df"
   ]
  },
  {
   "cell_type": "code",
   "execution_count": 221,
   "metadata": {},
   "outputs": [
    {
     "name": "stdout",
     "output_type": "stream",
     "text": [
      "Area under the ROC curve : 0.570546\n"
     ]
    }
   ],
   "source": [
    "fpr, tpr, thresholds =roc_curve(df['actual'], df['pred'])\n",
    "roc_auc = auc(fpr, tpr)\n",
    "print(\"Area under the ROC curve : %f\" % roc_auc)"
   ]
  },
  {
   "cell_type": "code",
   "execution_count": 227,
   "metadata": {},
   "outputs": [
    {
     "data": {
      "text/plain": [
       "[Text(-10.0, 0, ''),\n",
       " Text(0.0, 0, ''),\n",
       " Text(10.0, 0, ''),\n",
       " Text(20.0, 0, ''),\n",
       " Text(30.0, 0, ''),\n",
       " Text(40.0, 0, ''),\n",
       " Text(50.0, 0, ''),\n",
       " Text(60.0, 0, ''),\n",
       " Text(70.0, 0, ''),\n",
       " Text(80.0, 0, '')]"
      ]
     },
     "execution_count": 227,
     "metadata": {},
     "output_type": "execute_result"
    },
    {
     "data": {
      "image/png": "[encoded data removed]",
      "text/plain": [
       "<Figure size 432x288 with 1 Axes>"
      ]
     },
     "metadata": {
      "needs_background": "light"
     },
     "output_type": "display_data"
    }
   ],
   "source": [
    "i = np.arange(len(tpr)) # index for df\n",
    "roc = pd.DataFrame({'fpr' : pd.Series(fpr, index=i),'tpr' : pd.Series(tpr, index = i), '1-fpr' : pd.Series(1-fpr, index = i), 'tf' : pd.Series(tpr - (1-fpr), index = i), 'thresholds' : pd.Series(thresholds, index = i)})\n",
    "roc.iloc[(roc.tf-0).abs().argsort()[:1]]\n",
    "\n",
    "roc\n",
    "# Plot tpr vs 1-fpr\n",
    "fig, ax = pl.subplots()\n",
    "pl.plot(roc['tpr'])\n",
    "pl.plot(roc['1-fpr'], color = 'red')\n",
    "pl.xlabel('1-False Positive Rate')\n",
    "pl.ylabel('True Positive Rate')\n",
    "pl.title('Receiver operating characteristic')\n",
    "ax.set_xticklabels([])"
   ]
  },
  {
   "cell_type": "code",
   "execution_count": 228,
   "metadata": {},
   "outputs": [],
   "source": [
    "cv = RepeatedStratifiedKFold(n_splits=10, n_repeats=3, random_state=1)\n",
    "n_scores = cross_val_score(model, raw_data[['log_range', 'count']], raw_data['status_num'], scoring='accuracy', cv=cv, n_jobs=-1)"
   ]
  },
  {
   "cell_type": "code",
   "execution_count": 229,
   "metadata": {},
   "outputs": [
    {
     "name": "stdout",
     "output_type": "stream",
     "text": [
      "Mean Accuracy: 0.535 (0.012)\n"
     ]
    }
   ],
   "source": [
    "print('Mean Accuracy: %.3f (%.3f)' % (mean(n_scores), std(n_scores)))"
   ]
  },
  {
   "cell_type": "code",
   "execution_count": 7,
   "metadata": {},
   "outputs": [
    {
     "name": "stdout",
     "output_type": "stream",
     "text": [
      "Collecting simplejson\n",
      "  Downloading simplejson-3.17.6-cp310-cp310-macosx_10_9_x86_64.whl (74 kB)\n",
      "\u001b[2K     \u001b[90m━━━━━━━━━━━━━━━━━━━━━━━━━━━━━━━━━━━━━━━━\u001b[0m \u001b[32m74.3/74.3 kB\u001b[0m \u001b[31m2.6 MB/s\u001b[0m eta \u001b[36m0:00:00\u001b[0m\n",
      "\u001b[?25hInstalling collected packages: simplejson\n",
      "Successfully installed simplejson-3.17.6\n",
      "Note: you may need to restart the kernel to use updated packages.\n"
     ]
    }
   ],
   "source": [
    "pip install simplejson --user"
   ]
  },
  {
   "cell_type": "code",
   "execution_count": 3,
   "metadata": {},
   "outputs": [
    {
     "name": "stdout",
     "output_type": "stream",
     "text": [
      "Collecting python-utils\n",
      "  Downloading https://files.pythonhosted.org/packages/e8/6d/4fc1cd44f84dd4283a1baad76bde7cc8b4feea601dfdbbe76f4a10d85716/python_utils-3.2.3-py2.py3-none-any.whl\n",
      "Installing collected packages: python-utils\n",
      "Successfully installed python-utils-3.2.3\n",
      "Note: you may need to restart the kernel to use updated packages.\n"
     ]
    }
   ],
   "source": [
    "pip install python-utils --user"
   ]
  },
  {
   "cell_type": "code",
   "execution_count": 12,
   "metadata": {},
   "outputs": [
    {
     "name": "stdout",
     "output_type": "stream",
     "text": [
      "Collecting tensorflow\n",
      "\u001b[?25l  Downloading https://files.pythonhosted.org/packages/46/7b/d55ad3929956336e23cd1167616c192dbc1ef7d24fb57231385c5d475111/tensorflow-2.9.1-cp37-cp37m-macosx_10_14_x86_64.whl (228.4MB)\n",
      "\u001b[K     |████████████████████████████████| 228.4MB 78.5MB/s eta 0:00:011\n",
      "\u001b[?25hCollecting typing-extensions>=3.6.6 (from tensorflow)\n",
      "  Downloading https://files.pythonhosted.org/packages/75/e1/932e06004039dd670c9d5e1df0cd606bf46e29a28e65d5bb28e894ea29c9/typing_extensions-4.2.0-py3-none-any.whl\n",
      "Collecting libclang>=13.0.0 (from tensorflow)\n",
      "\u001b[?25l  Downloading https://files.pythonhosted.org/packages/4d/ee/cc56d7cd42e9e259bc2002dfafa660a8d8767af39781c5aa182904eb53d4/libclang-14.0.1-py2.py3-none-macosx_10_9_x86_64.whl (13.2MB)\n",
      "\u001b[K     |████████████████████████████████| 13.2MB 53.0MB/s eta 0:00:01\n",
      "\u001b[?25hRequirement already satisfied: setuptools in /opt/anaconda3/lib/python3.7/site-packages (from tensorflow) (41.4.0)\n",
      "Collecting flatbuffers<2,>=1.12 (from tensorflow)\n",
      "  Downloading https://files.pythonhosted.org/packages/eb/26/712e578c5f14e26ae3314c39a1bdc4eb2ec2f4ddc89b708cf8e0a0d20423/flatbuffers-1.12-py2.py3-none-any.whl\n",
      "Collecting tensorflow-estimator<2.10.0,>=2.9.0rc0 (from tensorflow)\n",
      "\u001b[?25l  Downloading https://files.pythonhosted.org/packages/61/e1/a72ec68403d91ba433018db58859fd4706642aa9d0fb44ff778934fc4c2c/tensorflow_estimator-2.9.0-py2.py3-none-any.whl (438kB)\n",
      "\u001b[K     |████████████████████████████████| 440kB 31.9MB/s eta 0:00:01\n",
      "\u001b[?25hRequirement already satisfied: wrapt>=1.11.0 in /opt/anaconda3/lib/python3.7/site-packages (from tensorflow) (1.11.2)\n",
      "Requirement already satisfied: packaging in /opt/anaconda3/lib/python3.7/site-packages (from tensorflow) (19.2)\n",
      "Collecting grpcio<2.0,>=1.24.3 (from tensorflow)\n",
      "\u001b[?25l  Downloading https://files.pythonhosted.org/packages/94/10/abb35921ceaf032784f44be6765a259c36800d729a2e4e79e26491b05c70/grpcio-1.46.3-cp37-cp37m-macosx_10_10_x86_64.whl (4.3MB)\n",
      "\u001b[K     |████████████████████████████████| 4.4MB 92.1MB/s eta 0:00:01\n",
      "\u001b[?25hCollecting numpy>=1.20 (from tensorflow)\n",
      "\u001b[?25l  Downloading https://files.pythonhosted.org/packages/32/dd/43d8b2b2ebf424f6555271a4c9f5b50dc3cc0aafa66c72b4d36863f71358/numpy-1.21.6-cp37-cp37m-macosx_10_9_x86_64.whl (16.9MB)\n",
      "\u001b[K     |████████████████████████████████| 16.9MB 36.8MB/s eta 0:00:01\n",
      "\u001b[?25hCollecting termcolor>=1.1.0 (from tensorflow)\n",
      "  Downloading https://files.pythonhosted.org/packages/8a/48/a76be51647d0eb9f10e2a4511bf3ffb8cc1e6b14e9e4fab46173aa79f981/termcolor-1.1.0.tar.gz\n",
      "Collecting tensorboard<2.10,>=2.9 (from tensorflow)\n",
      "\u001b[?25l  Downloading https://files.pythonhosted.org/packages/69/80/a3abccc4ea941c36741751206e40e619afe28652cf76f74cfa4c3e4248ba/tensorboard-2.9.0-py3-none-any.whl (5.8MB)\n",
      "\u001b[K     |████████████████████████████████| 5.8MB 31.7MB/s eta 0:00:01\n",
      "\u001b[?25hCollecting keras-preprocessing>=1.1.1 (from tensorflow)\n",
      "\u001b[?25l  Downloading https://files.pythonhosted.org/packages/79/4c/7c3275a01e12ef9368a892926ab932b33bb13d55794881e3573482b378a7/Keras_Preprocessing-1.1.2-py2.py3-none-any.whl (42kB)\n",
      "\u001b[K     |████████████████████████████████| 51kB 28.0MB/s eta 0:00:01\n",
      "\u001b[?25hCollecting gast<=0.4.0,>=0.2.1 (from tensorflow)\n",
      "  Downloading https://files.pythonhosted.org/packages/b6/48/583c032b79ae5b3daa02225a675aeb673e58d2cb698e78510feceb11958c/gast-0.4.0-py3-none-any.whl\n",
      "Collecting tensorflow-io-gcs-filesystem>=0.23.1 (from tensorflow)\n",
      "\u001b[?25l  Downloading https://files.pythonhosted.org/packages/38/91/4f7d754f32b135a68d2135f5bccec72e337a20660d8e21831bbf6e5a0a26/tensorflow_io_gcs_filesystem-0.26.0-cp37-cp37m-macosx_10_14_x86_64.whl (1.6MB)\n",
      "\u001b[K     |████████████████████████████████| 1.6MB 69.6MB/s eta 0:00:01\n",
      "\u001b[?25hCollecting absl-py>=1.0.0 (from tensorflow)\n",
      "\u001b[?25l  Downloading https://files.pythonhosted.org/packages/2c/03/e3e19d3faf430ede32e41221b294e37952e06acc96781c417ac25d4a0324/absl_py-1.0.0-py3-none-any.whl (126kB)\n",
      "\u001b[K     |████████████████████████████████| 133kB 99.0MB/s eta 0:00:01\n",
      "\u001b[?25hCollecting opt-einsum>=2.3.2 (from tensorflow)\n",
      "\u001b[?25l  Downloading https://files.pythonhosted.org/packages/bc/19/404708a7e54ad2798907210462fd950c3442ea51acc8790f3da48d2bee8b/opt_einsum-3.3.0-py3-none-any.whl (65kB)\n",
      "\u001b[K     |████████████████████████████████| 71kB 28.3MB/s eta 0:00:01\n",
      "\u001b[?25hRequirement already satisfied: h5py>=2.9.0 in /opt/anaconda3/lib/python3.7/site-packages (from tensorflow) (2.9.0)\n",
      "Collecting google-pasta>=0.1.1 (from tensorflow)\n",
      "\u001b[?25l  Downloading https://files.pythonhosted.org/packages/a3/de/c648ef6835192e6e2cc03f40b19eeda4382c49b5bafb43d88b931c4c74ac/google_pasta-0.2.0-py3-none-any.whl (57kB)\n",
      "\u001b[K     |████████████████████████████████| 61kB 37.1MB/s eta 0:00:01\n",
      "\u001b[?25hCollecting protobuf<3.20,>=3.9.2 (from tensorflow)\n",
      "\u001b[?25l  Downloading https://files.pythonhosted.org/packages/17/76/05be12cd81c7c3020acab58c641de975a3bad494d7bb818886c9c3863619/protobuf-3.19.4-cp37-cp37m-macosx_10_9_x86_64.whl (960kB)\n",
      "\u001b[K     |████████████████████████████████| 962kB 32.7MB/s eta 0:00:01\n",
      "\u001b[?25hCollecting keras<2.10.0,>=2.9.0rc0 (from tensorflow)\n",
      "\u001b[?25l  Downloading https://files.pythonhosted.org/packages/ff/ff/f25909606aed26981a8bd6d263f89d64a20ca5e5316e6aafb4c75d9ec8ae/keras-2.9.0-py2.py3-none-any.whl (1.6MB)\n",
      "\u001b[K     |████████████████████████████████| 1.6MB 29.6MB/s eta 0:00:01\n",
      "\u001b[?25hCollecting astunparse>=1.6.0 (from tensorflow)\n",
      "  Downloading https://files.pythonhosted.org/packages/2b/03/13dde6512ad7b4557eb792fbcf0c653af6076b81e5941d36ec61f7ce6028/astunparse-1.6.3-py2.py3-none-any.whl\n",
      "Requirement already satisfied: six>=1.12.0 in /opt/anaconda3/lib/python3.7/site-packages (from tensorflow) (1.12.0)\n",
      "Requirement already satisfied: pyparsing>=2.0.2 in /opt/anaconda3/lib/python3.7/site-packages (from packaging->tensorflow) (2.4.2)\n",
      "Collecting google-auth-oauthlib<0.5,>=0.4.1 (from tensorboard<2.10,>=2.9->tensorflow)\n",
      "  Downloading https://files.pythonhosted.org/packages/b1/0e/0636cc1448a7abc444fb1b3a63655e294e0d2d49092dc3de05241be6d43c/google_auth_oauthlib-0.4.6-py2.py3-none-any.whl\n",
      "Collecting werkzeug>=1.0.1 (from tensorboard<2.10,>=2.9->tensorflow)\n",
      "\u001b[?25l  Downloading https://files.pythonhosted.org/packages/c4/44/f50f2d22cdfb6d56c03d1b4cc3cfa03ebee2f21b59a7768f151e43415ba5/Werkzeug-2.1.2-py3-none-any.whl (224kB)\n",
      "\u001b[K     |████████████████████████████████| 225kB 97.6MB/s eta 0:00:01\n",
      "\u001b[?25hCollecting tensorboard-data-server<0.7.0,>=0.6.0 (from tensorboard<2.10,>=2.9->tensorflow)\n",
      "\u001b[?25l  Downloading https://files.pythonhosted.org/packages/3e/48/dd135dbb3cf16bfb923720163493cab70e7336db4b5f3103d49efa730404/tensorboard_data_server-0.6.1-py3-none-macosx_10_9_x86_64.whl (3.5MB)\n",
      "\u001b[K     |████████████████████████████████| 3.6MB 61.7MB/s eta 0:00:01\n",
      "\u001b[?25hRequirement already satisfied: requests<3,>=2.21.0 in /opt/anaconda3/lib/python3.7/site-packages (from tensorboard<2.10,>=2.9->tensorflow) (2.22.0)\n",
      "Collecting tensorboard-plugin-wit>=1.6.0 (from tensorboard<2.10,>=2.9->tensorflow)\n",
      "\u001b[?25l  Downloading https://files.pythonhosted.org/packages/e0/68/e8ecfac5dd594b676c23a7f07ea34c197d7d69b3313afdf8ac1b0a9905a2/tensorboard_plugin_wit-1.8.1-py3-none-any.whl (781kB)\n",
      "\u001b[K     |████████████████████████████████| 788kB 79.4MB/s eta 0:00:01\n",
      "\u001b[?25hCollecting google-auth<3,>=1.6.3 (from tensorboard<2.10,>=2.9->tensorflow)\n",
      "\u001b[?25l  Downloading https://files.pythonhosted.org/packages/fc/04/ea9a945a6fbd7f7f977fcf7e300a715f1635939e5daf141b95068abaa5ec/google_auth-2.6.6-py2.py3-none-any.whl (156kB)\n",
      "\u001b[K     |████████████████████████████████| 163kB 100.5MB/s eta 0:00:01\n",
      "\u001b[?25hRequirement already satisfied: wheel>=0.26 in /opt/anaconda3/lib/python3.7/site-packages (from tensorboard<2.10,>=2.9->tensorflow) (0.33.6)\n",
      "Collecting markdown>=2.6.8 (from tensorboard<2.10,>=2.9->tensorflow)\n",
      "\u001b[?25l  Downloading https://files.pythonhosted.org/packages/f3/df/ca72f352e15b6f8ce32b74af029f1189abffb906f7c137501ffe69c98a65/Markdown-3.3.7-py3-none-any.whl (97kB)\n",
      "\u001b[K     |████████████████████████████████| 102kB 21.5MB/s ta 0:00:01\n",
      "\u001b[?25hCollecting requests-oauthlib>=0.7.0 (from google-auth-oauthlib<0.5,>=0.4.1->tensorboard<2.10,>=2.9->tensorflow)\n",
      "  Downloading https://files.pythonhosted.org/packages/6f/bb/5deac77a9af870143c684ab46a7934038a53eb4aa975bc0687ed6ca2c610/requests_oauthlib-1.3.1-py2.py3-none-any.whl\n",
      "Requirement already satisfied: idna<2.9,>=2.5 in /opt/anaconda3/lib/python3.7/site-packages (from requests<3,>=2.21.0->tensorboard<2.10,>=2.9->tensorflow) (2.8)\n"
     ]
    },
    {
     "name": "stdout",
     "output_type": "stream",
     "text": [
      "Requirement already satisfied: certifi>=2017.4.17 in /opt/anaconda3/lib/python3.7/site-packages (from requests<3,>=2.21.0->tensorboard<2.10,>=2.9->tensorflow) (2019.9.11)\n",
      "Requirement already satisfied: chardet<3.1.0,>=3.0.2 in /opt/anaconda3/lib/python3.7/site-packages (from requests<3,>=2.21.0->tensorboard<2.10,>=2.9->tensorflow) (3.0.4)\n",
      "Requirement already satisfied: urllib3!=1.25.0,!=1.25.1,<1.26,>=1.21.1 in /opt/anaconda3/lib/python3.7/site-packages (from requests<3,>=2.21.0->tensorboard<2.10,>=2.9->tensorflow) (1.24.2)\n",
      "Collecting pyasn1-modules>=0.2.1 (from google-auth<3,>=1.6.3->tensorboard<2.10,>=2.9->tensorflow)\n",
      "\u001b[?25l  Downloading https://files.pythonhosted.org/packages/95/de/214830a981892a3e286c3794f41ae67a4495df1108c3da8a9f62159b9a9d/pyasn1_modules-0.2.8-py2.py3-none-any.whl (155kB)\n",
      "\u001b[K     |████████████████████████████████| 163kB 101.6MB/s eta 0:00:01\n",
      "\u001b[?25hCollecting cachetools<6.0,>=2.0.0 (from google-auth<3,>=1.6.3->tensorboard<2.10,>=2.9->tensorflow)\n",
      "  Downloading https://files.pythonhosted.org/packages/99/33/c605db9880c7bf6d58db6bb2953860b1927d28dd033d3bea82323d4e7b25/cachetools-5.1.0-py3-none-any.whl\n",
      "Collecting rsa<5,>=3.1.4; python_version >= \"3.6\" (from google-auth<3,>=1.6.3->tensorboard<2.10,>=2.9->tensorflow)\n",
      "  Downloading https://files.pythonhosted.org/packages/30/ab/8fd9e88e6fa5ec41afca995938bbefb72195278e0cfc5bd76a4f29b23fb2/rsa-4.8-py3-none-any.whl\n",
      "Collecting importlib-metadata>=4.4; python_version < \"3.10\" (from markdown>=2.6.8->tensorboard<2.10,>=2.9->tensorflow)\n",
      "  Downloading https://files.pythonhosted.org/packages/ab/b5/1bd220dd470b0b912fc31499e0d9c652007a60caf137995867ccc4b98cb6/importlib_metadata-4.11.4-py3-none-any.whl\n",
      "Collecting oauthlib>=3.0.0 (from requests-oauthlib>=0.7.0->google-auth-oauthlib<0.5,>=0.4.1->tensorboard<2.10,>=2.9->tensorflow)\n",
      "\u001b[?25l  Downloading https://files.pythonhosted.org/packages/1d/46/5ee2475e1b46a26ca0fa10d3c1d479577fde6ee289f8c6aa6d7ec33e31fd/oauthlib-3.2.0-py3-none-any.whl (151kB)\n",
      "\u001b[K     |████████████████████████████████| 153kB 97.9MB/s eta 0:00:01\n",
      "\u001b[?25hCollecting pyasn1<0.5.0,>=0.4.6 (from pyasn1-modules>=0.2.1->google-auth<3,>=1.6.3->tensorboard<2.10,>=2.9->tensorflow)\n",
      "\u001b[?25l  Downloading https://files.pythonhosted.org/packages/62/1e/a94a8d635fa3ce4cfc7f506003548d0a2447ae76fd5ca53932970fe3053f/pyasn1-0.4.8-py2.py3-none-any.whl (77kB)\n",
      "\u001b[K     |████████████████████████████████| 81kB 38.5MB/s eta 0:00:01\n",
      "\u001b[?25hRequirement already satisfied: zipp>=0.5 in /opt/anaconda3/lib/python3.7/site-packages (from importlib-metadata>=4.4; python_version < \"3.10\"->markdown>=2.6.8->tensorboard<2.10,>=2.9->tensorflow) (0.6.0)\n",
      "Requirement already satisfied: more-itertools in /opt/anaconda3/lib/python3.7/site-packages (from zipp>=0.5->importlib-metadata>=4.4; python_version < \"3.10\"->markdown>=2.6.8->tensorboard<2.10,>=2.9->tensorflow) (7.2.0)\n",
      "Building wheels for collected packages: termcolor\n",
      "  Building wheel for termcolor (setup.py) ... \u001b[?25ldone\n",
      "\u001b[?25h  Created wheel for termcolor: filename=termcolor-1.1.0-cp37-none-any.whl size=4832 sha256=48bdd0e2a808b6ba5ae62d70747147a9f37ef7133d01f4f60b71ee03a7092dde\n",
      "  Stored in directory: /Users/kenneth.zhang/Library/Caches/pip/wheels/7c/06/54/bc84598ba1daf8f970247f550b175aaaee85f68b4b0c5ab2c6\n",
      "Successfully built termcolor\n",
      "Installing collected packages: typing-extensions, libclang, flatbuffers, tensorflow-estimator, grpcio, numpy, termcolor, oauthlib, requests-oauthlib, pyasn1, pyasn1-modules, cachetools, rsa, google-auth, google-auth-oauthlib, werkzeug, tensorboard-data-server, protobuf, tensorboard-plugin-wit, absl-py, importlib-metadata, markdown, tensorboard, keras-preprocessing, gast, tensorflow-io-gcs-filesystem, opt-einsum, google-pasta, keras, astunparse, tensorflow\n",
      "\u001b[33m  WARNING: The scripts f2py, f2py3 and f2py3.7 are installed in '/Users/kenneth.zhang/.local/bin' which is not on PATH.\n",
      "  Consider adding this directory to PATH or, if you prefer to suppress this warning, use --no-warn-script-location.\u001b[0m\n",
      "\u001b[33m  WARNING: The scripts pyrsa-decrypt, pyrsa-encrypt, pyrsa-keygen, pyrsa-priv2pub, pyrsa-sign and pyrsa-verify are installed in '/Users/kenneth.zhang/.local/bin' which is not on PATH.\n",
      "  Consider adding this directory to PATH or, if you prefer to suppress this warning, use --no-warn-script-location.\u001b[0m\n",
      "\u001b[33m  WARNING: The script google-oauthlib-tool is installed in '/Users/kenneth.zhang/.local/bin' which is not on PATH.\n",
      "  Consider adding this directory to PATH or, if you prefer to suppress this warning, use --no-warn-script-location.\u001b[0m\n",
      "\u001b[33m  WARNING: The script markdown_py is installed in '/Users/kenneth.zhang/.local/bin' which is not on PATH.\n",
      "  Consider adding this directory to PATH or, if you prefer to suppress this warning, use --no-warn-script-location.\u001b[0m\n",
      "\u001b[33m  WARNING: The script tensorboard is installed in '/Users/kenneth.zhang/.local/bin' which is not on PATH.\n",
      "  Consider adding this directory to PATH or, if you prefer to suppress this warning, use --no-warn-script-location.\u001b[0m\n",
      "\u001b[33m  WARNING: The scripts estimator_ckpt_converter, import_pb_to_tensorboard, saved_model_cli, tensorboard, tf_upgrade_v2, tflite_convert, toco and toco_from_protos are installed in '/Users/kenneth.zhang/.local/bin' which is not on PATH.\n",
      "  Consider adding this directory to PATH or, if you prefer to suppress this warning, use --no-warn-script-location.\u001b[0m\n",
      "Successfully installed absl-py-1.0.0 astunparse-1.6.3 cachetools-5.1.0 flatbuffers-1.12 gast-0.4.0 google-auth-2.6.6 google-auth-oauthlib-0.4.6 google-pasta-0.2.0 grpcio-1.46.3 importlib-metadata-4.11.4 keras-2.9.0 keras-preprocessing-1.1.2 libclang-14.0.1 markdown-3.3.7 numpy-1.21.6 oauthlib-3.2.0 opt-einsum-3.3.0 protobuf-3.19.4 pyasn1-0.4.8 pyasn1-modules-0.2.8 requests-oauthlib-1.3.1 rsa-4.8 tensorboard-2.9.0 tensorboard-data-server-0.6.1 tensorboard-plugin-wit-1.8.1 tensorflow-2.9.1 tensorflow-estimator-2.9.0 tensorflow-io-gcs-filesystem-0.26.0 termcolor-1.1.0 typing-extensions-4.2.0 werkzeug-2.1.2\n",
      "Note: you may need to restart the kernel to use updated packages.\n"
     ]
    }
   ],
   "source": [
    "pip install tensorflow --user"
   ]
  },
  {
   "cell_type": "code",
   "execution_count": 2,
   "metadata": {},
   "outputs": [
    {
     "data": {
      "text/plain": [
       "True"
      ]
     },
     "execution_count": 2,
     "metadata": {},
     "output_type": "execute_result"
    }
   ],
   "source": [
    "load_dotenv(find_dotenv(), verbose=False)"
   ]
  },
  {
   "cell_type": "code",
   "execution_count": 8,
   "metadata": {},
   "outputs": [
    {
     "ename": "KeyError",
     "evalue": "'kenneth.zhang@gusto.com'",
     "output_type": "error",
     "traceback": [
      "\u001b[0;31m---------------------------------------------------------------------------\u001b[0m",
      "\u001b[0;31mKeyError\u001b[0m                                  Traceback (most recent call last)",
      "\u001b[0;32m<ipython-input-8-9912cf7e0cbb>\u001b[0m in \u001b[0;36m<module>\u001b[0;34m\u001b[0m\n\u001b[1;32m      1\u001b[0m db_url = \"postgresql://{}:{}@{}:{}/{}\".format(\n\u001b[0;32m----> 2\u001b[0;31m     \u001b[0mos\u001b[0m\u001b[0;34m.\u001b[0m\u001b[0menviron\u001b[0m\u001b[0;34m[\u001b[0m\u001b[0;34m\"kenneth.zhang@gusto.com\"\u001b[0m\u001b[0;34m]\u001b[0m\u001b[0;34m,\u001b[0m\u001b[0;34m\u001b[0m\u001b[0;34m\u001b[0m\u001b[0m\n\u001b[0m\u001b[1;32m      3\u001b[0m     \u001b[0mos\u001b[0m\u001b[0;34m.\u001b[0m\u001b[0menviron\u001b[0m\u001b[0;34m[\u001b[0m\u001b[0;34m\"xq8RoKNjHRRzuFQhDKWr84R3\"\u001b[0m\u001b[0;34m]\u001b[0m\u001b[0;34m,\u001b[0m\u001b[0;34m\u001b[0m\u001b[0;34m\u001b[0m\u001b[0m\n\u001b[1;32m      4\u001b[0m     \u001b[0mos\u001b[0m\u001b[0;34m.\u001b[0m\u001b[0menviron\u001b[0m\u001b[0;34m[\u001b[0m\u001b[0;34m\"dataeng-stag.cqyxh8rl6vlx.us-west-2.redshift.amazonaws.com\"\u001b[0m\u001b[0;34m]\u001b[0m\u001b[0;34m,\u001b[0m\u001b[0;34m\u001b[0m\u001b[0;34m\u001b[0m\u001b[0m\n\u001b[1;32m      5\u001b[0m     \u001b[0mos\u001b[0m\u001b[0;34m.\u001b[0m\u001b[0menviron\u001b[0m\u001b[0;34m[\u001b[0m\u001b[0;34m\"5439\"\u001b[0m\u001b[0;34m]\u001b[0m\u001b[0;34m,\u001b[0m\u001b[0;34m\u001b[0m\u001b[0;34m\u001b[0m\u001b[0m\n",
      "\u001b[0;32m/opt/anaconda3/lib/python3.7/os.py\u001b[0m in \u001b[0;36m__getitem__\u001b[0;34m(self, key)\u001b[0m\n\u001b[1;32m    676\u001b[0m         \u001b[0;32mexcept\u001b[0m \u001b[0mKeyError\u001b[0m\u001b[0;34m:\u001b[0m\u001b[0;34m\u001b[0m\u001b[0;34m\u001b[0m\u001b[0m\n\u001b[1;32m    677\u001b[0m             \u001b[0;31m# raise KeyError with the original key value\u001b[0m\u001b[0;34m\u001b[0m\u001b[0;34m\u001b[0m\u001b[0;34m\u001b[0m\u001b[0m\n\u001b[0;32m--> 678\u001b[0;31m             \u001b[0;32mraise\u001b[0m \u001b[0mKeyError\u001b[0m\u001b[0;34m(\u001b[0m\u001b[0mkey\u001b[0m\u001b[0;34m)\u001b[0m \u001b[0;32mfrom\u001b[0m \u001b[0;32mNone\u001b[0m\u001b[0;34m\u001b[0m\u001b[0;34m\u001b[0m\u001b[0m\n\u001b[0m\u001b[1;32m    679\u001b[0m         \u001b[0;32mreturn\u001b[0m \u001b[0mself\u001b[0m\u001b[0;34m.\u001b[0m\u001b[0mdecodevalue\u001b[0m\u001b[0;34m(\u001b[0m\u001b[0mvalue\u001b[0m\u001b[0;34m)\u001b[0m\u001b[0;34m\u001b[0m\u001b[0;34m\u001b[0m\u001b[0m\n\u001b[1;32m    680\u001b[0m \u001b[0;34m\u001b[0m\u001b[0m\n",
      "\u001b[0;31mKeyError\u001b[0m: 'kenneth.zhang@gusto.com'"
     ]
    }
   ],
   "source": [
    "\n",
    "db_url = \"postgresql://{}:{}@{}:{}/{}\".format(\n",
    "    os.environ[\"REDSHIFT_USER\"],\n",
    "    os.environ[\"REDSHIFT_PASSWORD\"],\n",
    "    os.environ[\"REDSHIFT_HOST\"],\n",
    "    os.environ[\"REDSHIFT_PORT\"],\n",
    "    os.environ[\"REDSHIFT_DATABASE\"]\n",
    ")\n",
    " \n",
    "sql_engine = create_engine(db_url)\n",
    " \n",
    "query = '''select * from bi.track_events_fact where user_id = 7757869454725124 '''\n",
    " \n",
    "raw_data = pd.read_sql(query, sql_engine)"
   ]
  },
  {
   "cell_type": "code",
   "execution_count": 2,
   "metadata": {},
   "outputs": [
    {
     "name": "stdout",
     "output_type": "stream",
     "text": [
      "Collecting psycopg2\n",
      "\u001b[?25l  Downloading https://files.pythonhosted.org/packages/d1/1e/b450599a27b1809bccbd4e369f397cb18dc56b875778d961f9ae180b54b7/psycopg2-2.9.3.tar.gz (380kB)\n",
      "\u001b[K     |████████████████████████████████| 389kB 15.1MB/s eta 0:00:01\n",
      "\u001b[?25hBuilding wheels for collected packages: psycopg2\n",
      "  Building wheel for psycopg2 (setup.py) ... \u001b[?25ldone\n",
      "\u001b[?25h  Created wheel for psycopg2: filename=psycopg2-2.9.3-cp37-cp37m-macosx_10_9_x86_64.whl size=142194 sha256=e77d701bf31f4f0eab8b489af43dac56e0cff57a726d7b86c6ef155e15619feb\n",
      "  Stored in directory: /Users/kenneth.zhang/Library/Caches/pip/wheels/53/80/aa/5e5d2f26d31822dd475a0b5bdb412800c30355647dc26e21a8\n",
      "Successfully built psycopg2\n",
      "Installing collected packages: psycopg2\n",
      "Successfully installed psycopg2-2.9.3\n",
      "Note: you may need to restart the kernel to use updated packages.\n"
     ]
    }
   ],
   "source": [
    "pip install psycopg2 --user"
   ]
  },
  {
   "cell_type": "code",
   "execution_count": 34,
   "metadata": {},
   "outputs": [],
   "source": [
    "data = [[-1, 10], [0, 15], [1, 14]]\n",
    "df = pd.DataFrame(data, columns = ['Name', 'Age'])"
   ]
  },
  {
   "cell_type": "code",
   "execution_count": 35,
   "metadata": {},
   "outputs": [
    {
     "data": {
      "text/html": [
       "<div>\n",
       "<style scoped>\n",
       "    .dataframe tbody tr th:only-of-type {\n",
       "        vertical-align: middle;\n",
       "    }\n",
       "\n",
       "    .dataframe tbody tr th {\n",
       "        vertical-align: top;\n",
       "    }\n",
       "\n",
       "    .dataframe thead th {\n",
       "        text-align: right;\n",
       "    }\n",
       "</style>\n",
       "<table border=\"1\" class=\"dataframe\">\n",
       "  <thead>\n",
       "    <tr style=\"text-align: right;\">\n",
       "      <th></th>\n",
       "      <th>Name</th>\n",
       "      <th>Age</th>\n",
       "    </tr>\n",
       "  </thead>\n",
       "  <tbody>\n",
       "    <tr>\n",
       "      <td>0</td>\n",
       "      <td>-1</td>\n",
       "      <td>10</td>\n",
       "    </tr>\n",
       "    <tr>\n",
       "      <td>1</td>\n",
       "      <td>0</td>\n",
       "      <td>15</td>\n",
       "    </tr>\n",
       "    <tr>\n",
       "      <td>2</td>\n",
       "      <td>1</td>\n",
       "      <td>14</td>\n",
       "    </tr>\n",
       "  </tbody>\n",
       "</table>\n",
       "</div>"
      ],
      "text/plain": [
       "   Name  Age\n",
       "0    -1   10\n",
       "1     0   15\n",
       "2     1   14"
      ]
     },
     "execution_count": 35,
     "metadata": {},
     "output_type": "execute_result"
    }
   ],
   "source": [
    "df"
   ]
  },
  {
   "cell_type": "code",
   "execution_count": 36,
   "metadata": {},
   "outputs": [
    {
     "data": {
      "text/html": [
       "<div>\n",
       "<style scoped>\n",
       "    .dataframe tbody tr th:only-of-type {\n",
       "        vertical-align: middle;\n",
       "    }\n",
       "\n",
       "    .dataframe tbody tr th {\n",
       "        vertical-align: top;\n",
       "    }\n",
       "\n",
       "    .dataframe thead th {\n",
       "        text-align: right;\n",
       "    }\n",
       "</style>\n",
       "<table border=\"1\" class=\"dataframe\">\n",
       "  <thead>\n",
       "    <tr style=\"text-align: right;\">\n",
       "      <th></th>\n",
       "      <th>Name</th>\n",
       "      <th>Age</th>\n",
       "    </tr>\n",
       "  </thead>\n",
       "  <tbody>\n",
       "    <tr>\n",
       "      <td>0</td>\n",
       "      <td>False</td>\n",
       "      <td>True</td>\n",
       "    </tr>\n",
       "    <tr>\n",
       "      <td>1</td>\n",
       "      <td>False</td>\n",
       "      <td>True</td>\n",
       "    </tr>\n",
       "    <tr>\n",
       "      <td>2</td>\n",
       "      <td>True</td>\n",
       "      <td>True</td>\n",
       "    </tr>\n",
       "  </tbody>\n",
       "</table>\n",
       "</div>"
      ],
      "text/plain": [
       "    Name   Age\n",
       "0  False  True\n",
       "1  False  True\n",
       "2   True  True"
      ]
     },
     "execution_count": 36,
     "metadata": {},
     "output_type": "execute_result"
    }
   ],
   "source": [
    "df > 0"
   ]
  },
  {
   "cell_type": "code",
   "execution_count": 31,
   "metadata": {},
   "outputs": [
    {
     "name": "stdout",
     "output_type": "stream",
     "text": [
      "    Coefficients  Standard Errors  t values  Probabilities    [0.025    0.975]\n",
      "0       152.1335            2.576    59.061          0.000   147.071   157.196\n",
      "1       -10.0122           59.749    -0.168          0.867  -127.448   107.424\n",
      "2      -239.8191           61.222    -3.917          0.000  -360.151  -119.488\n",
      "3       519.8398           66.534     7.813          0.000   389.069   650.610\n",
      "4       324.3904           65.422     4.958          0.000   195.805   452.976\n",
      "5      -792.1842          416.684    -1.901          0.058 -1611.169    26.801\n",
      "6       476.7458          339.035     1.406          0.160  -189.621  1143.113\n",
      "7       101.0446          212.533     0.475          0.635  -316.685   518.774\n",
      "8       177.0642          161.476     1.097          0.273  -140.313   494.442\n",
      "9       751.2793          171.902     4.370          0.000   413.409  1089.150\n",
      "10       67.6254           65.984     1.025          0.306   -62.065   197.316\n"
     ]
    }
   ],
   "source": [
    "lm = LinearRegression()\n",
    "lm.fit(X,y)\n",
    "params = np.append(lm.intercept_,lm.coef_)\n",
    "predictions = lm.predict(X)\n",
    "\n",
    "newX = pd.DataFrame({\"Constant\":np.ones(len(X))}).join(pd.DataFrame(X))\n",
    "MSE = (sum((y-predictions)**2))/(len(newX)-len(newX.columns))\n",
    "\n",
    "# Note if you don't want to use a DataFrame replace the two lines above with\n",
    "# newX = np.append(np.ones((len(X),1)), X, axis=1)\n",
    "# MSE = (sum((y-predictions)**2))/(len(newX)-len(newX[0]))\n",
    "\n",
    "var_b = MSE*(np.linalg.inv(np.dot(newX.T,newX)).diagonal())\n",
    "sd_b = np.sqrt(var_b)\n",
    "ts_b = params/ sd_b\n",
    "confidence = 0.95\n",
    "\n",
    "\n",
    "p_values =[2*(1-stats.t.cdf(np.abs(i),(len(newX)-len(newX.columns)))) for i in ts_b]\n",
    "lower_bound  = [params[i]-np.abs(t.ppf((1-confidence)/2, (len(newX)-len(newX.columns))))*sd_b[i] for i in range(len(newX.columns))]\n",
    "upper_bound  = [params[i]+np.abs(t.ppf((1-confidence)/2, (len(newX)-len(newX.columns))))*sd_b[i] for i in range(len(newX.columns))]\n",
    "\n",
    "sd_b = np.round(sd_b,3)\n",
    "ts_b = np.round(ts_b,3)\n",
    "p_values = np.round(p_values,3)\n",
    "params = np.round(params,4)\n",
    "lower_bound = np.round(lower_bound, 3)\n",
    "upper_bound = np.round(upper_bound, 3)\n",
    "\n",
    "myDF3 = pd.DataFrame()\n",
    "myDF3[\"Coefficients\"],myDF3[\"Standard Errors\"],myDF3[\"t values\"],myDF3[\"Probabilities\"] , myDF3[\"[0.025\"] ,myDF3[\"0.975]\"] = [params,sd_b,ts_b,p_values, lower_bound, upper_bound]\n",
    "print(myDF3)"
   ]
  },
  {
   "cell_type": "code",
   "execution_count": 11,
   "metadata": {},
   "outputs": [
    {
     "name": "stdout",
     "output_type": "stream",
     "text": [
      "                            OLS Regression Results                            \n",
      "==============================================================================\n",
      "Dep. Variable:                      y   R-squared:                       0.518\n",
      "Model:                            OLS   Adj. R-squared:                  0.507\n",
      "Method:                 Least Squares   F-statistic:                     46.27\n",
      "Date:                Wed, 22 Jun 2022   Prob (F-statistic):           3.83e-62\n",
      "Time:                        16:45:25   Log-Likelihood:                -2386.0\n",
      "No. Observations:                 442   AIC:                             4794.\n",
      "Df Residuals:                     431   BIC:                             4839.\n",
      "Df Model:                          10                                         \n",
      "Covariance Type:            nonrobust                                         \n",
      "==============================================================================\n",
      "                 coef    std err          t      P>|t|      [0.025      0.975]\n",
      "------------------------------------------------------------------------------\n",
      "const        152.1335      2.576     59.061      0.000     147.071     157.196\n",
      "x1           -10.0122     59.749     -0.168      0.867    -127.448     107.424\n",
      "x2          -239.8191     61.222     -3.917      0.000    -360.151    -119.488\n",
      "x3           519.8398     66.534      7.813      0.000     389.069     650.610\n",
      "x4           324.3904     65.422      4.958      0.000     195.805     452.976\n",
      "x5          -792.1842    416.684     -1.901      0.058   -1611.169      26.801\n",
      "x6           476.7458    339.035      1.406      0.160    -189.621    1143.113\n",
      "x7           101.0446    212.533      0.475      0.635    -316.685     518.774\n",
      "x8           177.0642    161.476      1.097      0.273    -140.313     494.442\n",
      "x9           751.2793    171.902      4.370      0.000     413.409    1089.150\n",
      "x10           67.6254     65.984      1.025      0.306     -62.065     197.316\n",
      "==============================================================================\n",
      "Omnibus:                        1.506   Durbin-Watson:                   2.029\n",
      "Prob(Omnibus):                  0.471   Jarque-Bera (JB):                1.404\n",
      "Skew:                           0.017   Prob(JB):                        0.496\n",
      "Kurtosis:                       2.726   Cond. No.                         227.\n",
      "==============================================================================\n",
      "\n",
      "Warnings:\n",
      "[1] Standard Errors assume that the covariance matrix of the errors is correctly specified.\n"
     ]
    }
   ],
   "source": [
    "import pandas as pd\n",
    "import numpy as np\n",
    "from sklearn import datasets, linear_model\n",
    "from sklearn.linear_model import LinearRegression\n",
    "import statsmodels.api as sm\n",
    "from scipy import stats\n",
    "\n",
    "diabetes = datasets.load_diabetes()\n",
    "X = diabetes.data\n",
    "y = diabetes.target\n",
    "\n",
    "X2 = sm.add_constant(X)\n",
    "est = sm.OLS(y, X2)\n",
    "est2 = est.fit()\n",
    "print(est2.summary())"
   ]
  },
  {
   "cell_type": "code",
   "execution_count": null,
   "metadata": {},
   "outputs": [],
   "source": []
  }
 ],
 "metadata": {
  "kernelspec": {
   "display_name": "Python 3",
   "language": "python",
   "name": "python3"
  },
  "language_info": {
   "codemirror_mode": {
    "name": "ipython",
    "version": 3
   },
   "file_extension": ".py",
   "mimetype": "text/x-python",
   "name": "python",
   "nbconvert_exporter": "python",
   "pygments_lexer": "ipython3",
   "version": "3.7.4"
  }
 },
 "nbformat": 4,
 "nbformat_minor": 2
}
